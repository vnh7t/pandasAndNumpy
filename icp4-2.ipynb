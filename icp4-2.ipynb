{
 "cells": [
  {
   "cell_type": "code",
   "execution_count": 27,
   "id": "13fd2d60-911a-4f38-be20-96cf719e21b1",
   "metadata": {},
   "outputs": [],
   "source": [
    "#pandas"
   ]
  },
  {
   "cell_type": "code",
   "execution_count": 28,
   "id": "fa261d1f-55b7-41ba-a82e-c6b68aeda45f",
   "metadata": {},
   "outputs": [],
   "source": [
    "#1. Read the provided CSV file ‘data.csv’.\n",
    "#import pandas \n",
    "import pandas as ps"
   ]
  },
  {
   "cell_type": "code",
   "execution_count": 29,
   "id": "e12736b3-7ecd-46f3-a458-91569faf5ba3",
   "metadata": {},
   "outputs": [],
   "source": [
    "#reading data from CSV file\n",
    "datafile=ps.read_csv('/Users/venkatavarunnelakuditi/Downloads/icp-4-varunnh7t-master/data.csv')"
   ]
  },
  {
   "cell_type": "code",
   "execution_count": 30,
   "id": "b52d5e82-5ee8-4cd2-a34f-b4ae7fdb626b",
   "metadata": {},
   "outputs": [
    {
     "name": "stdout",
     "output_type": "stream",
     "text": [
      "         Duration       Pulse    Maxpulse     Calories\n",
      "count  169.000000  169.000000  169.000000   164.000000\n",
      "mean    63.846154  107.461538  134.047337   375.790244\n",
      "std     42.299949   14.510259   16.450434   266.379919\n",
      "min     15.000000   80.000000  100.000000    50.300000\n",
      "25%     45.000000  100.000000  124.000000   250.925000\n",
      "50%     60.000000  105.000000  131.000000   318.600000\n",
      "75%     60.000000  111.000000  141.000000   387.600000\n",
      "max    300.000000  159.000000  184.000000  1860.400000\n"
     ]
    }
   ],
   "source": [
    "#2.Show the basic statistical description about the data\n",
    "#using describe method to show info about data and printed it\n",
    "print (datafile.describe())"
   ]
  },
  {
   "cell_type": "code",
   "execution_count": 31,
   "id": "66706b61-e42a-4add-a9b2-68254fa47b40",
   "metadata": {},
   "outputs": [
    {
     "data": {
      "text/plain": [
       "True"
      ]
     },
     "execution_count": 31,
     "metadata": {},
     "output_type": "execute_result"
    }
   ],
   "source": [
    "#3. Check if the data has null values. a. Replace the null values with the mean\n",
    "#checking entire dataframe for null values and will return bool\n",
    "datafile.isnull().values.any()"
   ]
  },
  {
   "cell_type": "code",
   "execution_count": 32,
   "id": "8f9c94cc-3da4-4730-aa37-46ab4da7f863",
   "metadata": {},
   "outputs": [],
   "source": [
    "datafile.fillna(datafile.mean(),inplace=True)"
   ]
  },
  {
   "cell_type": "code",
   "execution_count": 34,
   "id": "6f9cd251-49d9-4ad9-83ac-8bb4918fde31",
   "metadata": {},
   "outputs": [
    {
     "data": {
      "text/plain": [
       "False"
      ]
     },
     "execution_count": 34,
     "metadata": {},
     "output_type": "execute_result"
    }
   ],
   "source": [
    "#checking for null values after updating with mean\n",
    "datafile.isnull().values.any()"
   ]
  },
  {
   "cell_type": "code",
   "execution_count": 35,
   "id": "61a7aa15-7356-404b-b878-d6f53b0c7075",
   "metadata": {},
   "outputs": [],
   "source": [
    "#4. Select at least two columns and aggregate the data using: min, max, count, mean.\n",
    "#selecting last 2 columns to aggregate the data\n",
    "result = datafile[datafile.columns[-2:]].agg(['mean', 'min', 'max'])"
   ]
  },
  {
   "cell_type": "code",
   "execution_count": 36,
   "id": "d8b58f5d-7213-428b-a841-2912a3e7ce1d",
   "metadata": {},
   "outputs": [
    {
     "name": "stdout",
     "output_type": "stream",
     "text": [
      "        Maxpulse     Calories\n",
      "mean  134.047337   375.790244\n",
      "min   100.000000    50.300000\n",
      "max   184.000000  1860.400000\n"
     ]
    }
   ],
   "source": [
    "print(result)"
   ]
  },
  {
   "cell_type": "code",
   "execution_count": 37,
   "id": "a547be6a-b9e7-4727-8e7b-22e8935176e1",
   "metadata": {},
   "outputs": [
    {
     "name": "stdout",
     "output_type": "stream",
     "text": [
      "     Duration  Pulse  Maxpulse  Calories\n",
      "51         80    123       146     643.1\n",
      "62        160    109       135     853.0\n",
      "65        180     90       130     800.4\n",
      "66        150    105       135     873.4\n",
      "67        150    107       130     816.0\n",
      "72         90    100       127     700.0\n",
      "73        150     97       127     953.2\n",
      "75         90     98       125     563.2\n",
      "78        120    100       130     500.4\n",
      "90        180    101       127     600.1\n",
      "99         90     93       124     604.1\n",
      "103        90     90       100     500.4\n",
      "106       180     90       120     800.3\n",
      "108        90     90       120     500.3\n"
     ]
    }
   ],
   "source": [
    "#5. Filter the dataframe to select the rows with calories values between 500 and 1000.\n",
    "\"Filter the dataframe to select the rows with calories values between 500 and 1000.\"\n",
    "print(datafile[ (datafile['Calories'] < 1000) & (datafile['Calories']>500)])"
   ]
  },
  {
   "cell_type": "code",
   "execution_count": 38,
   "id": "4fe2f1bf-e487-4205-8228-f8b415eb661f",
   "metadata": {},
   "outputs": [
    {
     "name": "stdout",
     "output_type": "stream",
     "text": [
      "     Duration  Pulse  Maxpulse  Calories\n",
      "65        180     90       130     800.4\n",
      "70        150     97       129    1115.0\n",
      "73        150     97       127     953.2\n",
      "75         90     98       125     563.2\n",
      "99         90     93       124     604.1\n",
      "103        90     90       100     500.4\n",
      "106       180     90       120     800.3\n",
      "108        90     90       120     500.3\n"
     ]
    }
   ],
   "source": [
    "#6. Filter the dataframe to select the rows with calories values > 500 and pulse < 100.\n",
    "\"Filter the dataframe to select the rows with calories values > 500 and pulse < 100.\"\n",
    "print(datafile[ (datafile['Calories'] > 500) & (datafile['Pulse']<100)])"
   ]
  },
  {
   "cell_type": "code",
   "execution_count": 39,
   "id": "8ac46dcf-d5d6-4294-9b95-80be5f488895",
   "metadata": {},
   "outputs": [],
   "source": [
    "#7. Create a new “df_modified” dataframe that contains all the columns from df except for “Maxpulse”.\n",
    "\"Create a new “df_modified” dataframe that contains all the columns from df except for “Maxpulse”.\"\n",
    "df_modified=datafile.drop('Maxpulse', axis=1)\n"
   ]
  },
  {
   "cell_type": "code",
   "execution_count": 17,
   "id": "7f89f32d-e504-4c94-b734-ce60ad091d2a",
   "metadata": {},
   "outputs": [
    {
     "name": "stdout",
     "output_type": "stream",
     "text": [
      "     Duration  Pulse  Calories\n",
      "0          60    110     409.1\n",
      "1          60    117     479.0\n",
      "2          60    103     340.0\n",
      "3          45    109     282.4\n",
      "4          45    117     406.0\n",
      "..        ...    ...       ...\n",
      "164        60    105     290.8\n",
      "165        60    110     300.0\n",
      "166        60    115     310.2\n",
      "167        75    120     320.4\n",
      "168        75    125     330.4\n",
      "\n",
      "[169 rows x 3 columns]\n"
     ]
    }
   ],
   "source": [
    "print(df_modified)"
   ]
  },
  {
   "cell_type": "code",
   "execution_count": 21,
   "id": "4b99f9e1-3460-42fd-b07e-1a592770ba92",
   "metadata": {},
   "outputs": [
    {
     "name": "stdout",
     "output_type": "stream",
     "text": [
      "     Duration  Pulse  Calories\n",
      "0          60    110     409.1\n",
      "1          60    117     479.0\n",
      "2          60    103     340.0\n",
      "3          45    109     282.4\n",
      "4          45    117     406.0\n",
      "..        ...    ...       ...\n",
      "164        60    105     290.8\n",
      "165        60    110     300.0\n",
      "166        60    115     310.2\n",
      "167        75    120     320.4\n",
      "168        75    125     330.4\n",
      "\n",
      "[169 rows x 3 columns]\n"
     ]
    }
   ],
   "source": [
    "#8. Delete the “Maxpulse” column from the main df dataframe\n",
    "\" Delete the “Maxpulse” column from the main df dataframe\"\n",
    "del datafile['Maxpulse']\n",
    "print(datafile)"
   ]
  },
  {
   "cell_type": "code",
   "execution_count": 22,
   "id": "251a10c2-0d18-4b02-95a2-0b6a25807ad3",
   "metadata": {},
   "outputs": [
    {
     "name": "stdout",
     "output_type": "stream",
     "text": [
      "Duration      int64\n",
      "Pulse         int64\n",
      "Calories    float64\n",
      "dtype: object\n"
     ]
    }
   ],
   "source": [
    "#9. Convert the datatype of Calories column to int datatype.\n",
    "\"checking data types of dataframe\"\n",
    "print(datafile.dtypes)"
   ]
  },
  {
   "cell_type": "code",
   "execution_count": 23,
   "id": "4cf02d10-ec19-457f-98ae-a3996f551e65",
   "metadata": {},
   "outputs": [],
   "source": [
    "\"Convert the datatype of Calories column to int datatype.\"\n",
    "datafile['Calories'] = datafile['Calories'].astype(int)"
   ]
  },
  {
   "cell_type": "code",
   "execution_count": 24,
   "id": "ad6a1878-29e3-4171-8e9f-8515770a3f42",
   "metadata": {},
   "outputs": [
    {
     "name": "stdout",
     "output_type": "stream",
     "text": [
      "Duration    int64\n",
      "Pulse       int64\n",
      "Calories    int64\n",
      "dtype: object\n"
     ]
    }
   ],
   "source": [
    "print(datafile.dtypes)"
   ]
  },
  {
   "cell_type": "code",
   "execution_count": 26,
   "id": "7da2fff0-4d88-4ffc-8694-f7f52cf70de0",
   "metadata": {},
   "outputs": [
    {
     "data": {
      "image/png": "[encoded data removed]",
      "text/plain": [
       "<Figure size 432x288 with 1 Axes>"
      ]
     },
     "metadata": {
      "needs_background": "light"
     },
     "output_type": "display_data"
    }
   ],
   "source": [
    "#10. Using pandas create a scatter plot for the two columns (Duration and Calories).\n",
    "ax1 = datafile.plot.scatter(x='Duration', y='Calories',c='red')"
   ]
  },
  {
   "cell_type": "code",
   "execution_count": null,
   "id": "2f0141cb-be8a-47ae-838c-ed80133d426d",
   "metadata": {},
   "outputs": [],
   "source": []
  }
 ],
 "metadata": {
  "kernelspec": {
   "display_name": "Python 3 (ipykernel)",
   "language": "python",
   "name": "python3"
  },
  "language_info": {
   "codemirror_mode": {
    "name": "ipython",
    "version": 3
   },
   "file_extension": ".py",
   "mimetype": "text/x-python",
   "name": "python",
   "nbconvert_exporter": "python",
   "pygments_lexer": "ipython3",
   "version": "3.9.6"
  }
 },
 "nbformat": 4,
 "nbformat_minor": 5
}
