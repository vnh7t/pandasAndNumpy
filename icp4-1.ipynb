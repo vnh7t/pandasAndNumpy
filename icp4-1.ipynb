{
 "cells": [
  {
   "cell_type": "code",
   "execution_count": 61,
   "id": "b69bba9a-82f5-44d8-a39b-91b330bee089",
   "metadata": {},
   "outputs": [],
   "source": [
    "#1. Numpy:\n",
    "#imporing numpy lib as np\n",
    "import numpy as np"
   ]
  },
  {
   "cell_type": "code",
   "execution_count": 62,
   "id": "44f664fe-70b3-46fb-94c6-b334c3c27b5c",
   "metadata": {},
   "outputs": [],
   "source": [
    "\"Using NumPy create random vector of size 15 having only Integers in the range 1-20.\"\n",
    "\"used rand int to create random array\"\n",
    "rints = np.random.randint(1,20,15)\n",
    "#rints = rng.integers(low=1, high=20, size=15)"
   ]
  },
  {
   "cell_type": "code",
   "execution_count": 63,
   "id": "274054b1-a7bb-4143-bcd1-0f8a1d602c4f",
   "metadata": {},
   "outputs": [
    {
     "name": "stdout",
     "output_type": "stream",
     "text": [
      "[ 7 16 12 15 10 16  4  8 17  8  7 13 19  2 18]\n"
     ]
    }
   ],
   "source": [
    "\"Print randomly generated array.\"\n",
    "print(rints)"
   ]
  },
  {
   "cell_type": "code",
   "execution_count": 64,
   "id": "f79aa0f8-e7e5-419c-a29c-16a890d5e5de",
   "metadata": {},
   "outputs": [],
   "source": [
    "\"1. Reshape the array to 3 by 5\"\n",
    "#using reshape method reshaping the array\n",
    "matrix=rints.reshape((3,5))"
   ]
  },
  {
   "cell_type": "code",
   "execution_count": 65,
   "id": "77d9f65a-3d3f-49fd-a70c-5d5d82c46df3",
   "metadata": {},
   "outputs": [
    {
     "name": "stdout",
     "output_type": "stream",
     "text": [
      "[[ 7 16 12 15 10]\n",
      " [16  4  8 17  8]\n",
      " [ 7 13 19  2 18]]\n"
     ]
    }
   ],
   "source": [
    "#2. Print array shape.\n",
    "\"Print 3x5 array shape.\"\n",
    "print(matrix)"
   ]
  },
  {
   "cell_type": "code",
   "execution_count": 66,
   "id": "16266c3d-9f31-4330-8872-bdba41b19591",
   "metadata": {
    "tags": []
   },
   "outputs": [
    {
     "name": "stdout",
     "output_type": "stream",
     "text": [
      "[1 3 2]\n"
     ]
    }
   ],
   "source": [
    "#store max values items indexs in each row\n",
    "max_ind = np.argmax(matrix, axis=1)\n",
    "print(max_ind)"
   ]
  },
  {
   "cell_type": "code",
   "execution_count": 67,
   "id": "21b24c6b-b793-42bc-8326-6dfc0ce93b43",
   "metadata": {},
   "outputs": [
    {
     "name": "stdout",
     "output_type": "stream",
     "text": [
      "[0 1 2]\n"
     ]
    }
   ],
   "source": [
    "#list of rows indexs in matrix\n",
    "row_index = np.arange(matrix.shape[0])\n",
    "print(row_index)"
   ]
  },
  {
   "cell_type": "code",
   "execution_count": 69,
   "id": "624056a4-c459-42a6-8a3d-cc11e039ade8",
   "metadata": {},
   "outputs": [
    {
     "name": "stdout",
     "output_type": "stream",
     "text": [
      "[[0 1 2]\n",
      " [1 3 2]]\n"
     ]
    }
   ],
   "source": [
    "#store moth inan array\n",
    "multi_ind = np.array([row_index, max_ind])\n",
    "print(multi_ind)"
   ]
  },
  {
   "cell_type": "code",
   "execution_count": 70,
   "id": "d916920a-d450-4235-bf2a-08d8d9698399",
   "metadata": {},
   "outputs": [
    {
     "name": "stdout",
     "output_type": "stream",
     "text": [
      "[ 1  8 12]\n"
     ]
    }
   ],
   "source": [
    "#with the help of ravel_multi_index find the linear index positions of max elements\n",
    "linear_ind = np.ravel_multi_index(multi_ind, matrix.shape)\n",
    "print(linear_ind)"
   ]
  },
  {
   "cell_type": "code",
   "execution_count": 71,
   "id": "18569cfb-9502-4b22-9b42-6888cc49ff7b",
   "metadata": {},
   "outputs": [
    {
     "name": "stdout",
     "output_type": "stream",
     "text": [
      "[[ 7  0 12 15 10]\n",
      " [16  4  8  0  8]\n",
      " [ 7 13  0  2 18]]\n"
     ]
    }
   ],
   "source": [
    "#with help of reshape(-1) now we access linear form of array\n",
    "matrix.reshape((-1))[linear_ind] = 0\n",
    "print(matrix)"
   ]
  },
  {
   "cell_type": "code",
   "execution_count": 72,
   "id": "3249c17e-866a-49ca-86b4-f8aa239ce511",
   "metadata": {},
   "outputs": [],
   "source": [
    "#4. Extract a diagonal from the array and save it as .npy file format.\n",
    "\"extracting diagonal\"\n",
    "\"Extract a diagonal from the array\"\n",
    "diagonal=np.diag(matrix)"
   ]
  },
  {
   "cell_type": "code",
   "execution_count": 73,
   "id": "90aa735f-bf6d-45ea-9317-7ca961c8b5d4",
   "metadata": {},
   "outputs": [],
   "source": [
    "\"save it as .npy file format.\"\n",
    "np.save(\"array.npy\", diagonal)"
   ]
  },
  {
   "cell_type": "code",
   "execution_count": 74,
   "id": "03c676ff-43c3-4efe-acb4-b6e9d6ae11e3",
   "metadata": {},
   "outputs": [
    {
     "name": "stdout",
     "output_type": "stream",
     "text": [
      "[7 4 0]\n"
     ]
    }
   ],
   "source": [
    "\"loading it back\"\n",
    "print(np.load(\"array.npy\"))"
   ]
  },
  {
   "cell_type": "code",
   "execution_count": null,
   "id": "6146f43a-8da5-4255-b1d9-bd7947f25bf2",
   "metadata": {},
   "outputs": [],
   "source": []
  }
 ],
 "metadata": {
  "kernelspec": {
   "display_name": "Python 3 (ipykernel)",
   "language": "python",
   "name": "python3"
  },
  "language_info": {
   "codemirror_mode": {
    "name": "ipython",
    "version": 3
   },
   "file_extension": ".py",
   "mimetype": "text/x-python",
   "name": "python",
   "nbconvert_exporter": "python",
   "pygments_lexer": "ipython3",
   "version": "3.9.6"
  }
 },
 "nbformat": 4,
 "nbformat_minor": 5
}
